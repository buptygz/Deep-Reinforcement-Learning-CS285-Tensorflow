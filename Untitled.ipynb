{
 "cells": [
  {
   "cell_type": "code",
   "execution_count": 1,
   "metadata": {},
   "outputs": [],
   "source": [
    "import tensorflow as tf\n"
   ]
  },
  {
   "cell_type": "code",
   "execution_count": 2,
   "metadata": {},
   "outputs": [],
   "source": [
    "tf.enable_eager_execution()"
   ]
  },
  {
   "cell_type": "code",
   "execution_count": 5,
   "metadata": {},
   "outputs": [],
   "source": [
    "a = tf.random.uniform((4, 10))"
   ]
  },
  {
   "cell_type": "code",
   "execution_count": 15,
   "metadata": {},
   "outputs": [
    {
     "data": {
      "text/plain": [
       "<tf.Tensor: id=7, shape=(4, 10), dtype=float32, numpy=\n",
       "array([[0.80607295, 0.27801847, 0.67065144, 0.73905134, 0.20660532,\n",
       "        0.8743572 , 0.4707613 , 0.4699931 , 0.28732574, 0.80924344],\n",
       "       [0.8318101 , 0.40344775, 0.69754124, 0.4805119 , 0.30989313,\n",
       "        0.44091165, 0.02509177, 0.29721558, 0.8433434 , 0.76916194],\n",
       "       [0.2268939 , 0.12079227, 0.776641  , 0.54633   , 0.17480922,\n",
       "        0.05645835, 0.6378163 , 0.23522055, 0.59589183, 0.91903114],\n",
       "       [0.63876534, 0.8514457 , 0.91787815, 0.19736433, 0.9992094 ,\n",
       "        0.658443  , 0.21410763, 0.78737235, 0.22120953, 0.4922464 ]],\n",
       "      dtype=float32)>"
      ]
     },
     "execution_count": 15,
     "metadata": {},
     "output_type": "execute_result"
    }
   ],
   "source": [
    "a"
   ]
  },
  {
   "cell_type": "code",
   "execution_count": 13,
   "metadata": {},
   "outputs": [
    {
     "data": {
      "text/plain": [
       "<tf.Tensor: id=28, shape=(4, 2), dtype=int32, numpy=\n",
       "array([[0, 4],\n",
       "       [1, 5],\n",
       "       [2, 6],\n",
       "       [3, 7]], dtype=int32)>"
      ]
     },
     "execution_count": 13,
     "metadata": {},
     "output_type": "execute_result"
    }
   ],
   "source": []
  },
  {
   "cell_type": "code",
   "execution_count": 14,
   "metadata": {},
   "outputs": [
    {
     "data": {
      "text/plain": [
       "<tf.Tensor: id=34, shape=(4,), dtype=float32, numpy=array([0.20660532, 0.44091165, 0.6378163 , 0.78737235], dtype=float32)>"
      ]
     },
     "execution_count": 14,
     "metadata": {},
     "output_type": "execute_result"
    }
   ],
   "source": [
    "tf.gather_nd(a, tf.stack([[0, 1, 2, 3], [4, 5, 6, 7]], axis=1))"
   ]
  },
  {
   "cell_type": "code",
   "execution_count": null,
   "metadata": {},
   "outputs": [],
   "source": []
  }
 ],
 "metadata": {
  "kernelspec": {
   "display_name": "Python 3",
   "language": "python",
   "name": "python3"
  },
  "language_info": {
   "codemirror_mode": {
    "name": "ipython",
    "version": 3
   },
   "file_extension": ".py",
   "mimetype": "text/x-python",
   "name": "python",
   "nbconvert_exporter": "python",
   "pygments_lexer": "ipython3",
   "version": "3.5.6"
  }
 },
 "nbformat": 4,
 "nbformat_minor": 4
}
